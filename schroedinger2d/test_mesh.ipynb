{
 "cells": [
  {
   "cell_type": "code",
   "execution_count": null,
   "id": "69ab4501-4bc1-4118-adb6-8a29ae6a103a",
   "metadata": {},
   "outputs": [],
   "source": [
    "import numpy as np\n",
    "import matplotlib.pyplot as plt\n",
    "import composite_mesh2d as msh"
   ]
  },
  {
   "cell_type": "code",
   "execution_count": null,
   "id": "5ae76785-b825-422a-86af-51099a314b6d",
   "metadata": {},
   "outputs": [],
   "source": [
    "d_min = 1e-8\n",
    "\n",
    "# Ag(111)\n",
    "a0 = 1.0  # = 2.89 A, length-scale of the system\n",
    "th_a = 2 * np.pi / 3  # = 120 deg\n",
    "a1 = a0 * np.array([1, 0], dtype=float)\n",
    "a2 = a0 * np.array([np.cos(th_a), np.sin(th_a)], dtype=float)\n",
    "\n",
    "# NTCDA/Ag(111) in the rectangular monolayer (r-ML) phase\n",
    "# two molecules within the unit cell adopt a herringbone arrangement\n",
    "phi_b = np.pi / 6  # = 30 deg\n",
    "b1 = 4 * a1\n",
    "b2 = 6 * np.cos(phi_b) * np.array([0, 1], dtype=float) "
   ]
  },
  {
   "cell_type": "code",
   "execution_count": null,
   "id": "46fd453b-e11e-4ff3-8e6d-cd8886696d92",
   "metadata": {},
   "outputs": [],
   "source": [
    "n_mid = 1\n",
    "UA1 = msh.unitcell_mesh1d(a1, a2, basis = (), axis=0, n_mid=n_mid, d_min=d_min)\n",
    "UA2 = msh.unitcell_mesh1d(a1, a2, basis = (), axis=1, n_mid=n_mid, d_min=d_min)\n",
    "\n",
    "LA1 = 30\n",
    "LA2 = 30\n",
    "originA = (0, 0)\n",
    "meshA1 = msh.lattice_mesh1d(UA1, LA1) + originA[0]\n",
    "meshA2 = msh.lattice_mesh1d(UA2, LA2) + originA[1]\n",
    "\n",
    "print(f\"{UA1 = }\")\n",
    "print(f\"{UA2 = }\")"
   ]
  },
  {
   "cell_type": "code",
   "execution_count": null,
   "id": "9ad99aeb-4605-4c25-b4c9-4832335ec24b",
   "metadata": {},
   "outputs": [],
   "source": [
    "rA = 0.5 * (b1 + b2)\n",
    "UB1 = msh.unitcell_mesh1d(b1, b2, basis = (rA, ), axis=0, n_mid=n_mid, d_min=d_min)\n",
    "UB2 = msh.unitcell_mesh1d(b1, b2, basis = (rA, ), axis=1, n_mid=n_mid, d_min=d_min)\n",
    "\n",
    "LB1 = 4\n",
    "LB2 = 3\n",
    "\n",
    "originB = (5, 5)\n",
    "meshB1 = msh.lattice_mesh1d(UB1, LB1) + originB[0]\n",
    "meshB2 = msh.lattice_mesh1d(UB2, LB2) + originB[1]\n",
    "\n",
    "print(f\"{UB1 = }\")\n",
    "print(f\"{UB2 = }\")"
   ]
  },
  {
   "cell_type": "code",
   "execution_count": null,
   "id": "a753721f-10b6-4535-8ce7-c705b6f640b7",
   "metadata": {},
   "outputs": [],
   "source": [
    "meshAB1 = msh.compose([meshA1, meshB1], d_min=d_min)\n",
    "meshAB2 = msh.compose([meshA2, meshB2], d_min=d_min)"
   ]
  },
  {
   "cell_type": "code",
   "execution_count": null,
   "id": "eaa35849-fe4a-4c78-a6c3-56f2a31a3fbf",
   "metadata": {},
   "outputs": [],
   "source": [
    "fig, ax = plt.subplots(1, 1, dpi=300)\n",
    "X, Y = np.meshgrid(meshAB1, meshAB2)\n",
    "ax.scatter(X, Y, marker='o', color='gray', alpha=0.5, s=1)\n",
    "\n",
    "latticeA = msh.lattice_points(a1, a2, LA1 + 20, LA2, originA)\n",
    "ax.scatter(latticeA[:, 0], latticeA[:, 1], marker='+', linewidth=0.5, color='blue')\n",
    "\n",
    "latticeB = msh.lattice_points(b1, b2, LB1, LB2, originB)\n",
    "ax.scatter(latticeB[:, 0], latticeB[:, 1], marker='+', linewidth=0.5, color='red')\n",
    "\n",
    "ax.set_aspect('equal')\n",
    "plt.show()"
   ]
  },
  {
   "cell_type": "code",
   "execution_count": null,
   "id": "9a5acab4-d2c0-4f00-a253-8926614def70",
   "metadata": {},
   "outputs": [],
   "source": [
    "fig, ax = plt.subplots(1, 1, dpi=300)\n",
    "X, Y = np.meshgrid(meshAB1, meshAB2)\n",
    "ax.scatter(X, Y, marker='o', color='gray', alpha=0.5, s=1)\n",
    "\n",
    "latticeA = msh.lattice_points(a1, a2, LA1 + 20, LA2, originA)\n",
    "idx_in = np.logical_and(np.logical_and(latticeA[:, 0] >= meshAB1[0], latticeA[:, 0] <= meshAB1[-1] + 6e-15),\n",
    "                        np.logical_and(latticeA[:, 1] >= meshAB2[0], latticeA[:, 1] <= meshAB2[-1]))\n",
    "LA = latticeA[idx_in]\n",
    "ax.scatter(LA[:, 0], LA[:, 1], marker='+', s=10, linewidth=0.5, color='blue')\n",
    "\n",
    "latticeB = msh.lattice_points(b1, b2, LB1, LB2, originB)\n",
    "idx_in = np.logical_and(np.logical_and(latticeB[:, 0] >= meshAB1[0], latticeB[:, 0] <= meshAB1[-1]),\n",
    "                        np.logical_and(latticeB[:, 1] >= meshAB2[0], latticeB[:, 1] <= meshAB2[-1]))\n",
    "LB = latticeB[idx_in]\n",
    "ax.scatter(LB[:, 0], LB[:, 1], marker='x', s=15, linewidth=0.5, color='red')\n",
    "\n",
    "ax.set_aspect('equal')\n",
    "plt.show()"
   ]
  },
  {
   "cell_type": "code",
   "execution_count": null,
   "id": "45439012-1e4c-4a1b-8477-bc182585c9f4",
   "metadata": {},
   "outputs": [],
   "source": []
  }
 ],
 "metadata": {
  "kernelspec": {
   "display_name": "Python 3 (ipykernel)",
   "language": "python",
   "name": "python3"
  },
  "language_info": {
   "codemirror_mode": {
    "name": "ipython",
    "version": 3
   },
   "file_extension": ".py",
   "mimetype": "text/x-python",
   "name": "python",
   "nbconvert_exporter": "python",
   "pygments_lexer": "ipython3",
   "version": "3.11.2"
  }
 },
 "nbformat": 4,
 "nbformat_minor": 5
}
