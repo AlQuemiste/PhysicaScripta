{
 "cells": [
  {
   "cell_type": "code",
   "execution_count": null,
   "id": "504458ea-0923-4ede-807e-9b6e80e48ece",
   "metadata": {},
   "outputs": [],
   "source": [
    "import numpy as np\n",
    "import scipy as sp\n",
    "import matplotlib.pyplot as plt\n",
    "from scipy.interpolate import griddata\n",
    "from scipy.spatial.distance import cdist\n",
    "from scipy.ndimage import gaussian_filter1d"
   ]
  },
  {
   "cell_type": "code",
   "execution_count": null,
   "id": "2b5a3051-7569-45d8-aa6d-9c16caebd637",
   "metadata": {},
   "outputs": [],
   "source": [
    "import tightbinding2d as tb"
   ]
  },
  {
   "cell_type": "code",
   "execution_count": null,
   "id": "afa85d40-0644-466c-9f5d-8d991a6a859e",
   "metadata": {},
   "outputs": [],
   "source": [
    "# read data\n",
    "data_path = \"/tmp/results\"\n",
    "datafile = data_path + \"/eigensystem.npz\"\n",
    "data = np.load(datafile)\n",
    "energies = data['eigenvalues']\n",
    "states = data['eigenvectors']\n",
    "Lx, Ly = int(data['Lx']), int(data['Ly'])"
   ]
  },
  {
   "cell_type": "code",
   "execution_count": null,
   "id": "f0c16e1e-418b-4f4f-bd16-2db87445805e",
   "metadata": {},
   "outputs": [],
   "source": [
    "n_states = energies.size\n",
    "sites = np.asarray(tb.lattice_sites(Lx, Ly))"
   ]
  },
  {
   "cell_type": "code",
   "execution_count": null,
   "id": "f8ce23aa-c969-4daa-8e72-d6f0cdedeb45",
   "metadata": {},
   "outputs": [],
   "source": [
    "fig, ax_dos, edges, hist = tb.histogram(energies, n_states // 20)\n",
    "ax_dos.set_title(\"DoS, [{:.3f}, {:.3f}]\".format(energies[0], energies[-1]))\n",
    "plt.show()"
   ]
  },
  {
   "cell_type": "code",
   "execution_count": null,
   "id": "1a7abd7e-b662-4def-8c68-4d2d68468ad3",
   "metadata": {},
   "outputs": [],
   "source": [
    "centers = 0.5 * (edges[:-1] + edges[1:])\n",
    "dos_smooth = gaussian_filter1d(hist, sigma=1.5)\n",
    "# plt.plot(centers, dos_smooth, marker='o', markersize=3, linewidth=0.2, color='orangered')\n",
    "plt.plot(centers, dos_smooth, linewidth=0.5, color='orangered')"
   ]
  },
  {
   "cell_type": "code",
   "execution_count": null,
   "id": "5b57110c-25f2-4244-843e-75880c17b46d",
   "metadata": {},
   "outputs": [],
   "source": [
    "xs, ys = sites[:, 0], sites[:, 1]\n",
    "T = 1e-4\n",
    "STM_weight = lambda e, E0, T: 1 - np.tanh((0.5 / T) * (e - E0))**2\n",
    "\n",
    "Vs = np.hstack((np.linspace(energies[0], 1.4, 500), np.linspace(3 - 0.25, 3 + 0.25, 500)))\n",
    "\n",
    "s_2 = states[:, :]**2\n",
    "slice_ = np.s_[::2]\n",
    "\n",
    "for i_E, E_ in enumerate(Vs):\n",
    "    ws = STM_weight(energies, E_, T)\n",
    "    ldos_avg = np.mean(s_2 * ws, axis=1)\n",
    "    # ldos_smooth = tb.gaussianSmoothing(sites, ldos_avg, sigma=1.0)\n",
    "    ldos_ = ldos_avg\n",
    "    vmin, vmax = np.amin(ldos_), np.amax(ldos_)\n",
    "    ldos_ = (ldos_ - vmin) * (1 / (vmax - vmin))\n",
    "    title = \"LDoS at E = {:.3f}\".format(E_)\n",
    "    fig, ax1 = plt.subplots(nrows=1, ncols=1)\n",
    "    scatter = ax1.scatter(xs[slice_], ys[slice_], c=ldos_[slice_], marker='s', s=35, cmap='inferno')\n",
    "    ax1.set_title(title)\n",
    "    cbar = fig.colorbar(scatter)\n",
    "    plt.savefig(\"/tmp/results/ldos_avg_{:d}.png\".format(i_E))\n",
    "    plt.show()"
   ]
  },
  {
   "cell_type": "code",
   "execution_count": null,
   "id": "79ca2457-a747-462d-b69b-c037fe527828",
   "metadata": {},
   "outputs": [],
   "source": [
    "dEs = energies[1:] - energies[:-1]\n",
    "dE_min = np.amin(dEs)\n",
    "dE_max = np.amax(dEs)\n",
    "print(\"dE: min = {:.3e}, max = {:.3e}\".format(dE_min, dE_max))\n",
    "\n",
    "fig, ax_dE, edges, hist  = tb.histogram(dEs, dEs.size // 10)\n",
    "ax_dE.set_title(\"dE\")\n",
    "plt.show()"
   ]
  },
  {
   "cell_type": "code",
   "execution_count": null,
   "id": "d0b0cc8c-c5ab-4370-8679-3fed35919a57",
   "metadata": {},
   "outputs": [],
   "source": [
    "dE_est = 2e-3\n",
    "T = 10 * dE_est"
   ]
  },
  {
   "cell_type": "code",
   "execution_count": null,
   "id": "04d2fd27-7fd1-448f-a783-5cdf8065e26f",
   "metadata": {
    "scrolled": true
   },
   "outputs": [],
   "source": [
    "n_avg = 5\n",
    "sites_a = sites[::2]\n",
    "xs, ys = sites_a[:, 0], sites_a[:, 1]\n",
    "T = 1e-4\n",
    "dE = 5e-3\n",
    "STM_weight_box = lambda e, dV, T: nF(-(e - dE), T) * nF(e + dE, T)\n",
    "\n",
    "for i_s1 in range(0, n_states // 10):\n",
    "    i_begin = i_s1 - n_avg \n",
    "    if i_begin < 0:\n",
    "        i_begin = 0\n",
    "\n",
    "    i_end = i_s1 + n_avg \n",
    "    if i_end >= n_states:\n",
    "        i_end = -1\n",
    "\n",
    "    ldos_avg = np.mean(states[::2, i_begin:i_end]**2, axis=1)\n",
    "    ldos_smooth = tb.gaussianSmoothing(sites_a, ldos_avg, sigma=2.0)\n",
    "    title = \"states in energy range [{:.3f}, {:.3f}]\".format(energies[i_s1], energies[i_s2])\n",
    "    fig, ax1 = plt.subplots(nrows=1, ncols=1)\n",
    "    scatter = ax1.scatter(xs, ys, c=ldos_smooth, marker='s', s=40, cmap='inferno')\n",
    "    ax1.set_title(title)\n",
    "    plt.savefig(\"/tmp/results/ldos_avg_{:d}.png\".format(i_s1))\n",
    "    plt.show()"
   ]
  },
  {
   "cell_type": "code",
   "execution_count": null,
   "id": "7de8d158-bf88-4359-b315-61b2498a9d56",
   "metadata": {},
   "outputs": [],
   "source": [
    "T = 1e-4\n",
    "nF = lambda e, T: 0.5 * (1 - np.tanh(0.5 / T * e))\n",
    "STM_weight_box = lambda e, E0, dE, T: nF(-(e - (E0 - dE)), T) * nF(e - (E0 + dE), T)\n",
    "\n",
    "i_s = 10\n",
    "E_ = energies[i_s]\n",
    "E_ = 0.9\n",
    "dE = 0.1\n",
    "ws = STM_weight_box(energies, E_, dE, T)\n",
    "\n",
    "print(f\"E = {E_:.3f}\")\n",
    "plt.plot(energies, ws)"
   ]
  },
  {
   "cell_type": "code",
   "execution_count": null,
   "id": "6656d585-c959-41ff-b9d5-8b0e0c351390",
   "metadata": {},
   "outputs": [],
   "source": [
    "T = 1e-4  # temperature\n",
    "STM_weight = lambda e, dV, T: 1.0 - np.tanh((0.5 / T) * (e - dV))**2\n",
    "\n",
    "nF = lambda e, T: 0.5 * (1 - np.tanh(0.5 / T * e))\n",
    "w0 = 2e-3\n",
    "STM_weight_box = lambda e, dV, T: nF(-(e - (dV - w0)), T) * nF(e - (dV + w0), T)\n",
    "\n",
    "fig, ax, *_ = tb.histogram(energies, n_states // 20)\n",
    "ax.set_title(\"DoS, [{:.3f}, {:.3f}]\".format(energies[0], energies[-1]))\n",
    "\n",
    "n_Vpts = 1 << 3\n",
    "dVs = np.linspace(np.amin(energies), np.amax(energies), n_Vpts)\n",
    "for dV in dVs:\n",
    "    ws = STM_weight_box(energies, dV, T)\n",
    "    ax.plot(energies, ws, linewidth=0, marker='x', markersize=1, label=f\"dV = {dV:.3f}\")\n",
    "    \n",
    "plt.legend()"
   ]
  },
  {
   "cell_type": "code",
   "execution_count": null,
   "id": "e1db3f6d-e529-4da3-aa0c-c6f1f6abb74b",
   "metadata": {
    "scrolled": true
   },
   "outputs": [],
   "source": [
    "for i_e, E_i in enumerate(energies):\n",
    "    print(f\"{i_e:d}) {E_i:.5f}\")"
   ]
  },
  {
   "cell_type": "code",
   "execution_count": null,
   "id": "fd98660e-a657-47f4-bba2-85a1828da0ca",
   "metadata": {},
   "outputs": [],
   "source": [
    "dVs"
   ]
  },
  {
   "cell_type": "code",
   "execution_count": null,
   "id": "e016af8c-6d16-44c4-8e42-698138fc1b44",
   "metadata": {
    "scrolled": true
   },
   "outputs": [],
   "source": [
    "dV = dVs[1]\n",
    "ws = STM_weight_box(energies, dV, T)\n",
    "\n",
    "for i_e, E_i in enumerate(energies):\n",
    "    print(f\"{i_e:d}) {E_i:.5f}: weight = {ws[i_e]:.3e}\")"
   ]
  },
  {
   "cell_type": "code",
   "execution_count": null,
   "id": "22552ed8-735b-400d-afe9-0cfffa092499",
   "metadata": {},
   "outputs": [],
   "source": [
    "xs, ys = sites[:, 0], sites[:, 1]\n",
    "n_Vpts = 1 << 3\n",
    "dVs = np.linspace(np.amin(energies), np.amax(energies), n_Vpts)\n",
    "\n",
    "T = 1e-3\n",
    "w0 = 1e-5\n",
    "nF = lambda e, T: 0.5 * (1 - np.tanh(0.5 / T * e))\n",
    "STM_weight_box = lambda e, dV, T: nF(-(e - (dV - w0)), T) * nF(e - (dV + w0), T)\n",
    "\n",
    "for dV in dVs:\n",
    "    ldos_avg = np.mean(states**2 * STM_weight_box(energies, dV, T), axis=1)\n",
    "    ldos_smooth = tb.gaussianSmoothing(sites, ldos_avg, sigma=2.0)\n",
    "    title = \"dI/dV at V = {:.3f}\".format(dV)\n",
    "    fig, ax1 = plt.subplots(nrows=1, ncols=1)\n",
    "    scatter = ax1.scatter(xs, ys, c=ldos_smooth, s=10, cmap='inferno')\n",
    "    cbar = fig.colorbar(scatter)\n",
    "    ax1.set_title(title)\n",
    "    plt.show()"
   ]
  },
  {
   "cell_type": "code",
   "execution_count": null,
   "id": "acfcfbe1-6a9b-4f44-9cf6-11a224d4e4a1",
   "metadata": {},
   "outputs": [],
   "source": [
    "dV = 0.6036182515258072\n",
    "STM_weight = lambda e, w, dV, T: nF(e, T) * nF(-(e-w), T)\n",
    "\n",
    "ws = STM_weight(energies, dV, T=0.01)\n",
    "\n",
    "s_2 = states**2\n",
    "i_s1, i_s2 = 10, 15\n",
    "ldos_avg = np.mean(s_2[:, i_s1:i_s2+1], axis=1)\n",
    "ldos_smooth = tb.gaussianSmoothing(sites, ldos_avg, sigma=2)\n",
    "plt.scatter(xs, ys, c=ldos_smooth, s=10, cmap='inferno')\n",
    "plt.show()\n",
    "plt.plot(energies, ws, marker='x', markersize=2, linewidth=0)\n",
    "plt.show()"
   ]
  },
  {
   "cell_type": "code",
   "execution_count": null,
   "id": "88ce4a46-62ef-454d-87c5-ab5108a9f64c",
   "metadata": {},
   "outputs": [],
   "source": [
    "STM_weight = lambda e, dV, T: 1.0 - np.tanh((0.5 / T) * (e - dV))**2\n",
    "ws = STM_weight(energies, 0.8, T=0.9)\n",
    "plt.plot(energies, ws)"
   ]
  },
  {
   "cell_type": "code",
   "execution_count": null,
   "id": "1d66503f-8678-4590-932a-4ef38f9d0fa1",
   "metadata": {},
   "outputs": [],
   "source": [
    "i_s1, i_s2 = 2167, 2186\n",
    "i_s1, i_s2 = 2167, i_s1 + 10\n",
    "\n",
    "s_2 = states**2\n",
    "\n",
    "ldos_avg = np.mean(s_2[:, i_s1:i_s2], axis=1)\n",
    "ldos_smooth = tb.gaussianSmoothing(sites, ldos_avg, sigma=2)\n",
    "plt.scatter(xs, ys, c=ldos_smooth, s=10, cmap='inferno')\n",
    "plt.show()\n"
   ]
  },
  {
   "cell_type": "code",
   "execution_count": null,
   "id": "3c801964-1777-4969-9660-5b978c0260ec",
   "metadata": {},
   "outputs": [],
   "source": []
  }
 ],
 "metadata": {
  "kernelspec": {
   "display_name": "Python 3 (ipykernel)",
   "language": "python",
   "name": "python3"
  },
  "language_info": {
   "codemirror_mode": {
    "name": "ipython",
    "version": 3
   },
   "file_extension": ".py",
   "mimetype": "text/x-python",
   "name": "python",
   "nbconvert_exporter": "python",
   "pygments_lexer": "ipython3",
   "version": "3.11.2"
  }
 },
 "nbformat": 4,
 "nbformat_minor": 5
}
